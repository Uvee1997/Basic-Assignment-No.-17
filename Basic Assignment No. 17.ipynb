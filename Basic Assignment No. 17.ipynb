{
 "cells": [
  {
   "cell_type": "markdown",
   "id": "fd79e081",
   "metadata": {},
   "source": [
    "1) Assign the value 7 to the variable guess_me. Then, write the conditional tests (if, else, and elif) to\n",
    "   print the string 'too low' if guess_me is less than 7, 'too high', if greater than 7, and 'just right' if equal to 7.\n",
    "    \n",
    ":-  def print_header(section:str):\n",
    "        print('-----------')\n",
    "        print('start of section'+ section)\n",
    "        \n",
    "    def print_footer(section:str):\n",
    "        print('end of section'+ section)\n",
    "        \n",
    "        \n",
    "    print_header(section)\n",
    "    guess_me = 7\n",
    "    \n",
    "    if guess_me < 7:\n",
    "        print('too low')\n",
    "        \n",
    "    elif guess_me > 7:\n",
    "        print('too high')\n",
    "        \n",
    "    else:\n",
    "        print('just right')\n",
    "\n",
    "    print_footer(section)    \n",
    "        "
   ]
  },
  {
   "cell_type": "markdown",
   "id": "03c1fdfb",
   "metadata": {},
   "source": [
    "2) Assign the value 7 to the variable guess_me and the value 1 to the variable start. Write a while\n",
    "   loop that compares start with guess_me. Print too low if start is less than guess me. If start equals\n",
    "   guess_me, print 'found it!' and exit the loop. If start is greater than guess_me, 'oops' and exit the loop. Increment      start at the end of the loop.\n",
    "   \n",
    "   \n",
    ":- print_header(section)\n",
    "   start = 1\n",
    "   guess_me = 7\n",
    "   \n",
    "   while True:\n",
    "        if start < guess_me:\n",
    "            print('too low')\n",
    "            \n",
    "        if start == guess_me:\n",
    "            print('found it!')\n",
    "            \n",
    "        else:\n",
    "            print('oops')\n",
    "            break\n",
    "            \n",
    "    print_footer(section)\n",
    "   "
   ]
  },
  {
   "cell_type": "markdown",
   "id": "3e132b0c",
   "metadata": {},
   "source": [
    "3) Print the following values of the list [3, 2, 1, 0] using a for loop.\n",
    "\n",
    ":- print_header(section)\n",
    "   numbers = [3,2,1,0]\n",
    "   for num in numbers:\n",
    "        print(num)\n",
    "   print_footer(section)     \n",
    "   "
   ]
  },
  {
   "cell_type": "markdown",
   "id": "a870bbf6",
   "metadata": {},
   "source": [
    "4) Use a list comprehension to make a list of the even numbers in range(10)\n",
    "\n",
    ":- print_header(section)\n",
    "   even_numbers = [num for num in range(10) if num % 2==0]\n",
    "   print(even_numbers)\n",
    "   print_footer(section) "
   ]
  },
  {
   "cell_type": "markdown",
   "id": "45b34ce8",
   "metadata": {},
   "source": [
    "5) Use a dictionary comprehension to create the dictionary squares. Use range(10) to return the keys, and use the square of    each key as its value.\n",
    "\n",
    ":- print_header(section)\n",
    "   limit = 10\n",
    "   squares = {num: num * num for num in range(limit)}\n",
    "   print(squares)\n",
    "   print_footer(section)"
   ]
  },
  {
   "cell_type": "markdown",
   "id": "01b13492",
   "metadata": {},
   "source": [
    "6) Construct the set odd from the odd numbers in the range using a set comprehension (10).\n",
    "\n",
    ":- print_header(section)\n",
    "   limit = 10\n",
    "   odd = {num for num in range(limit) if num % 2==1}\n",
    "   print(odd)\n",
    "   print_footer(section)"
   ]
  },
  {
   "cell_type": "markdown",
   "id": "38db55cf",
   "metadata": {},
   "source": [
    "7) Use a generator comprehension to return the string 'Got' and a number for the numbers in range(10). Iterate through this    by using a for loop.\n",
    "\n",
    ":- print_header(section)\n",
    "   limit = 10\n",
    "   string_generator = ('Got' + str(num) for num in range(limit))\n",
    "   for item in string_generator:\n",
    "       print(item)\n",
    "       \n",
    "   print_footer(section)    "
   ]
  },
  {
   "cell_type": "markdown",
   "id": "5e3870da",
   "metadata": {},
   "source": [
    "8) Define a function called good that returns the list ['Harry','Ron','Hermione'].\n",
    "\n",
    ":- print_header(section)\n",
    "   \n",
    "\n",
    "   def good():\n",
    "        return ['Harry','Ron','Hermione']\n",
    "    \n",
    "    print(good())\n",
    "    \n",
    "    print_footer(section)"
   ]
  },
  {
   "cell_type": "markdown",
   "id": "a676ce01",
   "metadata": {},
   "source": [
    "9) Define a generator function called get_odds that returns the odd numbers from range(10). Use a for loop to find and        print the third value returned.\n",
    "\n",
    "\n",
    ":- \n",
    "print_header(section)\n",
    "   limit = 10\n",
    "   get_odds = (num for num in range(limit) if not num % 2 == 0)\n",
    "   count = 0\n",
    "for num in get_odds:\n",
    "    if count == 2:\n",
    "        print(num)\n",
    "        break\n",
    "    count += 1\n",
    "print_footer(section)\n",
    "\n",
    "def get_odds():\n",
    "    for number in range(1, 10, 2):\n",
    "         yield number\n",
    "\n",
    " count = 1\n",
    " for number in get_odds():\n",
    "     if count == 3:\n",
    "         print(\"The third odd number is\", number)\n",
    "         break\n",
    "     count += 1\n"
   ]
  },
  {
   "cell_type": "markdown",
   "id": "a4ae811d",
   "metadata": {},
   "source": [
    "10) Define an exception called OopsException. Raise this exception to see what happens. Then write the code to catch this       exception and print 'Caught an oops'\n",
    "\n",
    ":- print_header(section)\n",
    "\n",
    "\n",
    "   class OopsException(Exception):\n",
    "        pass\n",
    "\n",
    "\n",
    "   def with_exception(a):\n",
    "       if a < 0:\n",
    "         raise OopsException(a)\n",
    "\n",
    "\n",
    "  try:\n",
    "     with_exception(-1)\n",
    "  except OopsException as err:\n",
    "      print('Caught an oops')\n",
    "\n",
    "   print_footer(section)\n",
    "    "
   ]
  },
  {
   "cell_type": "markdown",
   "id": "c4ad6a7e",
   "metadata": {},
   "source": [
    "11) Use zip() to make a dictionary called movies that pairs these lists: titles = ['Creature of Habit','Crewel Fate'] and       plots = ['A nun turns into a monster','A haunted yarn shop'].\n",
    "\n",
    ":- print_header(section)\n",
    "\n",
    "titles = ['Creature of Habit', 'Crewel Fate']\n",
    "plots = ['A nun turns into a monster', 'A haunted yarn shop']\n",
    "\n",
    "movies = {}\n",
    "for title, plot in zip(titles, plots):\n",
    "    movies[title] = plot\n",
    "    movies = dict(zip(titles, plots))\n",
    "print(movies)\n",
    "print_footer(section)"
   ]
  }
 ],
 "metadata": {
  "kernelspec": {
   "display_name": "Python 3 (ipykernel)",
   "language": "python",
   "name": "python3"
  },
  "language_info": {
   "codemirror_mode": {
    "name": "ipython",
    "version": 3
   },
   "file_extension": ".py",
   "mimetype": "text/x-python",
   "name": "python",
   "nbconvert_exporter": "python",
   "pygments_lexer": "ipython3",
   "version": "3.9.7"
  }
 },
 "nbformat": 4,
 "nbformat_minor": 5
}
